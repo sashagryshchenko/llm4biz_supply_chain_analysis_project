{
  "nbformat": 4,
  "nbformat_minor": 0,
  "metadata": {
    "colab": {
      "provenance": []
    },
    "kernelspec": {
      "name": "python3",
      "display_name": "Python 3"
    },
    "language_info": {
      "name": "python"
    }
  },
  "cells": [
    {
      "cell_type": "code",
      "execution_count": null,
      "metadata": {
        "id": "CHZ57CHeJB3Q"
      },
      "outputs": [],
      "source": [
        "!pip install openai\n",
        "!pip install sentence-transformers\n",
        "!pip install langchain pypdf langchain-openai #tiktoken chromadb\n",
        "!pip install llama-index --upgrade"
      ]
    },
    {
      "cell_type": "markdown",
      "source": [
        "Final Project-David Brown version\n"
      ],
      "metadata": {
        "id": "Up4882VRKM6O"
      }
    },
    {
      "cell_type": "code",
      "execution_count": null,
      "metadata": {
        "id": "bekeSBnlw5J1"
      },
      "outputs": [],
      "source": [
        "from langchain.chains.summarize import load_summarize_chain\n",
        "from langchain.chains.combine_documents.stuff import StuffDocumentsChain\n",
        "from langchain.chains.llm import LLMChain\n",
        "from langchain_openai import ChatOpenAI\n",
        "from langchain.prompts import PromptTemplate\n",
        "import pandas as pd"
      ]
    },
    {
      "cell_type": "code",
      "execution_count": null,
      "metadata": {
        "id": "gBjef38hI-cE"
      },
      "outputs": [],
      "source": [
        "# Import necessary classes from the llama_index package\n",
        "from llama_index.core import VectorStoreIndex, SimpleDirectoryReader, SummaryIndex\n",
        "from llama_index.core import Settings\n",
        "from llama_index.core.tools import QueryEngineTool, ToolMetadata\n",
        "from openai import OpenAI\n",
        "from google.colab import userdata\n",
        "import os\n",
        "open_ai_key = userdata.get('MyKey4')\n",
        "from openai import OpenAI\n",
        "from google.colab import userdata\n",
        "\n",
        "open_ai_key = userdata.get('MyKey')\n",
        "\n",
        "client = OpenAI(api_key=open_ai_key)\n",
        "os.environ[\"OPENAI_API_KEY\"] = userdata.get('MyKey4')\n",
        "client = OpenAI(api_key=open_ai_key)\n",
        "import textwrap\n"
      ]
    },
    {
      "cell_type": "code",
      "source": [
        "def gptrequest(prompt):\n",
        "  response = client.chat.completions.create(\n",
        "        model=\"gpt-4-turbo-preview\",\n",
        "        messages=[\n",
        "            {\"role\": \"system\", \"content\": \"You are an AI that takes instructions from a human and produces an answer. Be concise in your output.\"},\n",
        "            {\"role\": \"user\", \"content\": prompt}\n",
        "        ]\n",
        "\n",
        "  )\n",
        "  return response"
      ],
      "metadata": {
        "id": "DwmHo9urW71Z"
      },
      "execution_count": null,
      "outputs": []
    },
    {
      "cell_type": "code",
      "source": [
        "prompt = \"\"\n",
        "print(\"\\n\\nSupply Chain Summary Fuel Cells =================================================\\n\")\n",
        "\n",
        "prompt = \"Summarize Supply Chain impacts of Fuel Cell Cars\"\n",
        "print(\"\\n\\n prompt:  \" + prompt)\n",
        "response = gptrequest(prompt)\n",
        "table_out = response.choices[0].message.content\n",
        "print(table_out)\n",
        "\n",
        "print(\"\\n\\nSupply Chain Summary Electric Cars=================================================\\n\")\n",
        "response = client.chat.completions.create(\n",
        "        model=\"gpt-4-turbo-preview\",\n",
        "        messages=[\n",
        "            {\"role\": \"system\", \"content\": \"You are an AI that takes instructions from a human and produces an answer. Be concise in your output.\"},\n",
        "            {\"role\": \"user\", \"content\": \"Summarize Supply Chain impacts of Electric cars\"}\n",
        "        ]\n",
        "\n",
        ")\n",
        "table_out = response.choices[0].message.content\n",
        "###df = pd.read_csv(response.choices[0].message.content, sep=\"|\")\n",
        "print(table_out)\n",
        "\n",
        "\n",
        "print(\"\\n\\nFirst Question Supply Chain Comparison =================================================\\n\")\n",
        "response = client.chat.completions.create(\n",
        "        model=\"gpt-4-turbo-preview\",\n",
        "        messages=[\n",
        "            {\"role\": \"system\", \"content\": \"You are an AI that takes instructions from a human and produces an answer. Be concise in your output.\"},\n",
        "            {\"role\": \"user\", \"content\": \"create a table of a comparison between supply chain impacts of fuel cell cars vs electric vehicles\"}\n",
        "        ]\n",
        "\n",
        ")\n",
        "table_out = response.choices[0].message.content\n",
        "###df = pd.read_csv(response.choices[0].message.content, sep=\"|\")\n",
        "print(table_out)\n",
        "\n",
        "print(\"\\n\\nSecond Question Environmental Impact Comparison =================================================\\n\")\n",
        "response = client.chat.completions.create(\n",
        "        model=\"gpt-4-turbo-preview\",\n",
        "        messages=[\n",
        "            {\"role\": \"system\", \"content\": \"You are an AI that takes instructions from a human and produces an answer. Be concise in your output.\"},\n",
        "            {\"role\": \"user\", \"content\": \"create a table of a comparison between environmental impacts of fuel cell cars vs electric vehicles\"}\n",
        "        ]\n",
        ")\n",
        "table_out = response.choices[0].message.content\n",
        "print(table_out)\n",
        "\n",
        "print(\"\\n\\nThird Question Supply chain element Comparison =================================================\\n\")\n",
        "response = client.chat.completions.create(\n",
        "        model=\"gpt-4-turbo-preview\",\n",
        "        messages=[\n",
        "            {\"role\": \"system\", \"content\": \"You are an AI that takes instructions from a human and produces an answer. Be concise in your output.\"},\n",
        "            {\"role\": \"user\", \"content\": \"create a table of a comparison between Manufacturing Process of fuel cell cars vs electric vehicles\"}\n",
        "        ]\n",
        ")\n",
        "table_out = response.choices[0].message.content\n",
        "print(table_out)\n"
      ],
      "metadata": {
        "colab": {
          "base_uri": "https://localhost:8080/"
        },
        "id": "5suMCmJipsOG",
        "outputId": "4f1d3d9f-d5eb-4e67-f3fb-9ce7f57a30d9"
      },
      "execution_count": null,
      "outputs": [
        {
          "output_type": "stream",
          "name": "stdout",
          "text": [
            "\n",
            "\n",
            "Supply Chain Summary Fuel Cells =================================================\n",
            "\n",
            "\n",
            "\n",
            " prompt:  Summarize Supply Chain impacts of Fuel Cell Cars\n",
            "The integration of fuel cell cars, powered by hydrogen, into the automotive market impacts the supply chain in several ways:\n",
            "\n",
            "1. **Hydrogen Production and Distribution**: Requires a significant investment in the development of infrastructure to produce, store, and distribute hydrogen fuel. This includes establishing hydrogen production facilities (using methods like electrolysis or steam methane reforming) and a network of distribution pipelines or transport methods (like tankers).\n",
            "\n",
            "2. **Supply Chain Diversification**: The supply chain for fuel cell cars diversifies away from traditional petroleum-based supply chains towards those involved in hydrogen production and renewable energy sources, changing the dynamics and dependencies in global energy markets.\n",
            "\n",
            "3. **Raw Materials**: The production of fuel cells increases the demand for specific materials like platinum, which is used as a catalyst in the fuel cell. This could lead to supply constraints or increased mining activities for these materials.\n",
            "\n",
            "4. **Manufacturing and Assembly**: New manufacturing facilities and processes are needed to assemble fuel cell vehicles (FCVs), including investments in technology and skill development for workforce. This might also lead to shifts in geographical manufacturing hubs.\n",
            "\n",
            "5. **Maintenance and Aftercare**: The maintenance infrastructure needs to adapt to the new technologies involved in FCVs. This includes training for technicians and establishing facilities equipped to handle high-pressure hydrogen systems and fuel cell maintenance.\n",
            "\n",
            "6. **Environmental Regulations**: Tightening environmental regulations and targets for reducing carbon emissions drive the adoption of FCVs. The supply chain needs to adapt to these regulations, influencing everything from production methods to logistics.\n",
            "\n",
            "7. **Technology Development and Integration**: Ongoing research and development are critical for improving fuel cell efficiency, durability, and cost-effectiveness. This includes upstream activities related to the hydrogen economy and downstream activities like vehicle-to-grid technologies.\n",
            "\n",
            "8. **Investment and Incentives**: Government incentives and policies influence the pace of adoption of FCVs. Investments in research, infrastructure, and subsidies for consumers and manufacturers shape the developing supply chain landscape.\n",
            "\n",
            "In summary, the adoption of fuel cell cars significantly impacts the supply chain by necessitating new infrastructure for hydrogen fuel, changing demands for raw materials, requiring new manufacturing and maintenance processes, and adapting to environmental regulations and technological advancements.\n",
            "\n",
            "\n",
            "Supply Chain Summary Electric Cars=================================================\n",
            "\n",
            "The rise of electric cars has significant impacts on the supply chain in several ways:\n",
            "\n",
            "1. **Raw Materials Demand**: There is an increased demand for battery-specific raw materials such as lithium, cobalt, nickel, and graphite. This shifts extraction and processing focus towards these materials, impacting global mining and trade patterns.\n",
            "\n",
            "2. **Battery Supply Chain**: The battery production process is critical, requiring new manufacturing facilities and technologies. This includes battery cell manufacture, module assembly, and pack integration, necessitating specialized equipment and skills.\n",
            "\n",
            "3. **Electricity Infrastructure**: The growth of electric vehicles (EVs) necessitates upgrades to electrical grids and an increase in renewable energy sources to support charging infrastructure. This impacts utilities and renewable energy supply chains.\n",
            "\n",
            "4. **Component Changes**: EVs have fewer moving parts but require different components (like electric motors and power electronics) compared to internal combustion engine vehicles. This shifts demands within the automotive supply chain, affecting suppliers of traditional automotive parts.\n",
            "\n",
            "5. **Recycling and Sustainability**: End-of-life management for EVs and their batteries introduces new challenges and opportunities in recycling and sustainability, requiring the development of new processes and facilities.\n",
            "\n",
            "6. **Geopolitical Shifts**: The geographic locations of key raw materials and the concentration of battery production capabilities can lead to new geopolitical dynamics and trade dependencies, impacting global supply chains.\n",
            "\n",
            "7. **Supply Chain Resilience**: The concentration of raw material sourcing and battery production in specific regions raises concerns about supply chain resilience, risk of disruption, and the need for diversification.\n",
            "\n",
            "In summary, the shift to electric cars profoundly affects global supply chains, from raw material extraction to component manufacturing and end-of-life recycling, requiring significant adaptations across industries and countries.\n",
            "\n",
            "\n",
            "First Question Supply Chain Comparison =================================================\n",
            "\n",
            "| Criteria                  | Fuel Cell Cars (Hydrogen)   | Electric Vehicles (Battery)  |\n",
            "|---------------------------|-----------------------------|------------------------------|\n",
            "| **Energy Source**         | Hydrogen fuel               | Electricity (battery storage)|\n",
            "| **Efficiency**            | Lower efficiency due to energy conversion steps (electrolysis, compression, fuel cell conversion) | Higher efficiency, direct usage of electricity for propulsion |\n",
            "| **Refueling Infrastructure**| Requires new, specific infrastructure for hydrogen refueling, less prevalent | Uses existing electrical grid, more developed EV charging infrastructure |\n",
            "| **Emissions**             | Zero emissions at point of use, emissions depend on hydrogen production method | Zero emissions at point of use, upstream emissions depend on electricity generation mix |\n",
            "| **Supply Chain Complexity**| High: hydrogen production, storage, and distribution involve complex processes | Moderate: centralized battery production, simpler distribution of electricity |\n",
            "| **Resource Use**          | Depends on hydrogen production method (electrolysis requires substantial water, blue hydrogen requires natural gas) | Intensive use of minerals like lithium, cobalt, nickel for batteries |\n",
            "| **Energy Storage**        | Hydrogen can be stored and transported, offering potential for large-scale energy storage | Batteries offer energy storage but with limits on capacity and lifespan |\n",
            "| **Vehicle Range**         | Typically higher range than EVs, quick refueling times | Range improving with battery technology, but currently lower than fuel cells on average |\n",
            "| **Costs**                 | High vehicle and infrastructure costs, but potential for decrease as technology matures | High initial vehicle cost (though decreasing), lower cost to \"refuel\" than hydrogen, less expensive infrastructure |\n",
            "\n",
            "\n",
            "Second Question Environmental Impact Comparison =================================================\n",
            "\n",
            "| Factor                    | Fuel Cell Cars (Hydrogen)                           | Electric Vehicles (Battery Electric)              |\n",
            "|---------------------------|----------------------------------------------------|---------------------------------------------------|\n",
            "| Greenhouse Gas Emissions  | Low to none if using green hydrogen. Emissions depend on the method of hydrogen production. | Very low when charged with renewable energy. Emissions depend on the electricity mix of the grid. |\n",
            "| Air Pollution             | None at the point of use. Emissions depend on hydrogen production. | None at the point of use. Emissions tied to electricity generation sources. |\n",
            "| Energy Efficiency         | Lower efficiency overall due to energy loss in hydrogen production, storage, and conversion. | Higher efficiency as electricity directly powers the motor with less energy loss. |\n",
            "| Resource Use              | Requires platinum for fuel cells, which is rare and expensive. Water is also a primary resource for hydrogen production. | Requires rare earth metals and other materials (like cobalt, lithium) for batteries which have limited availability and ethical sourcing issues. |\n",
            "| Infrastructure            | Requires development of hydrogen fueling stations, which are currently limited. Higher initial infrastructure cost. | Relies on electricity charging stations, which are more widely available and growing. Easier integration with existing electrical grid. |\n",
            "| Vehicle Range and Refueling | Generally, have longer ranges and faster refueling times compared to current EVs. | Range is improving but generally shorter than hydrogen; charging takes longer but is improving with fast-charging technologies. |\n",
            "| Cost                      | Currently more expensive due to technology and hydrogen infrastructure costs. | Cost is decreasing as technology advances and production scales up. Typically less expensive than fuel cell vehicles. |\n",
            "| Water Emission            | Emit only water vapor at the point of use. | N/A |\n",
            "| Lifecycle Analysis        | Environmental impact varies significantly based on how hydrogen is produced (steam methane reforming vs. electrolysis with renewable energy). | Environmental impact is mostly associated with battery production and disposal, but is decreasing as recycling processes improve. |\n",
            "\n",
            "This table presents a simplified comparison and the environmental impacts of fuel cell vehicles (FCVs) and electric vehicles (EVs) can vary significantly depending on numerous factors including technological advancements, changes in energy production methods, and governmental policies. Both technologies are evolving rapidly, influencing their comparative environmental impacts over time.\n",
            "\n",
            "\n",
            "Third Question Supply chain element Comparison =================================================\n",
            "\n",
            "| Feature                                   | Fuel Cell Electric Vehicles (FCEVs)                                            | Battery Electric Vehicles (BEVs)                                          |\n",
            "|-------------------------------------------|--------------------------------------------------------------------------------|---------------------------------------------------------------------------|\n",
            "| **Energy Source**                         | Hydrogen gas, which powers the motor through a chemical process in a fuel cell | Electricity stored in batteries that power an electric motor              |\n",
            "| **Manufacturing of Energy Source**        | Hydrogen production can be via steam methane reforming, electrolysis, etc. Hydrogen must be compressed, stored, and transported. | Electricity can be generated from various sources (renewable and non-renewable), transmitted through the grid, and stored in batteries. |\n",
            "| **Vehicle Powertrain and Motor**          | Electric motor powered by electricity generated from the fuel cell. Requires systems for hydrogen storage and delivery to the fuel cell. | Electric motor directly powered by electricity from batteries. Simpler system with fewer moving parts. |\n",
            "| **Manufacturing of Storage System**       | Hydrogen storage tanks are made from high-strength materials to handle high pressures (up to 700 bar). Manufacturing involves advanced materials and safety features. | Battery production involves mining of lithium, nickel, cobalt, etc., followed by complex assembly of battery cells into modules and packs. |\n",
            "| **Energy Conversion and Efficiency**      | Involves conversion of hydrogen to electricity in the fuel cell with efficiencies generally around 40-60%. | Direct use of electrical energy with high efficiency, typically between 70-90%. |\n",
            "| **Infrastructure for Refueling/Charging**| Requires specialized hydrogen fueling stations, which are more expensive and less common than electric charging stations. Infrastructure still in early stages. | Uses electric charging stations, which can be more easily integrated into existing electrical grid. Vastly growing network and available for installation at home. |\n",
            "| **Environmental Impact of Manufacturing** | Production of hydrogen (especially from non-renewable sources) and manufacturing of high-pressure tanks can have significant environmental impacts. Also, the fuel cell system itself is complex and involves rare-materials. | Significant environmental impact in mining for battery materials, and the energy-intensive process of battery manufacture. However, potential for recycling batteries exists. |\n",
            "| **Vehicle Lifespan and Maintenance**      | Fuel cell systems may degrade over time, and hydrogen tanks need to be inspected. However, fewer moving parts in the drivetrain could mean less maintenance. | Battery degradation is a concern over time, impacting vehicle range. Recycling and replacing batteries can be expensive, but generally low maintenance due to fewer moving parts. |\n"
          ]
        }
      ]
    }
  ]
}